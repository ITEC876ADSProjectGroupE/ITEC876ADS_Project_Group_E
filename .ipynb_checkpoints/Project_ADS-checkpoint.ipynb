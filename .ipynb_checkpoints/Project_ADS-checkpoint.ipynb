{
 "cells": [
  {
   "cell_type": "markdown",
   "metadata": {},
   "source": [
    "## 0. Importing libraries"
   ]
  },
  {
   "cell_type": "code",
   "execution_count": 43,
   "metadata": {},
   "outputs": [],
   "source": [
    "from stackapi import StackAPI\n",
    "from pandas import datetime\n",
    "import pandas as pd\n",
    "from functools import reduce\n",
    "from sklearn.utils import shuffle"
   ]
  },
  {
   "cell_type": "markdown",
   "metadata": {},
   "source": [
    "## 1. Custom functions created"
   ]
  },
  {
   "cell_type": "code",
   "execution_count": 44,
   "metadata": {},
   "outputs": [],
   "source": [
    "def create_dataframe(data, name):\n",
    "    \n",
    "    '''\n",
    "    Function that creates a CSV file from the dictionary data object returned by the API.\n",
    "    \n",
    "    Input \n",
    "           : data -> data from API -> type : dictionary\n",
    "           : name -> name of the CSV file -> type : string\n",
    "    \n",
    "    Output : Returns nothing\n",
    "    '''\n",
    "    \n",
    "    data_items = data[\"items\"]\n",
    "    data_frame = pd.DataFrame()\n",
    "    question_list = []\n",
    "    tags_list = []\n",
    "\n",
    "    for i in data_items:\n",
    "        question_list.append(i[\"title\"])\n",
    "        tags_list.append(\"\".join([\"__label__\"+str(i) + \" \" for i in i[\"tags\"]]))\n",
    "    \n",
    "    data_frame[\"Question\"] = question_list\n",
    "    data_frame[\"Labels\"] = tags_list\n",
    "    data_frame.to_csv(name + \".csv\", header = True)"
   ]
  },
  {
   "cell_type": "markdown",
   "metadata": {},
   "source": [
    "## 2. Data Generation"
   ]
  },
  {
   "cell_type": "markdown",
   "metadata": {},
   "source": [
    "### 2.1 Setting parameters for API call"
   ]
  },
  {
   "cell_type": "code",
   "execution_count": 8,
   "metadata": {},
   "outputs": [],
   "source": [
    "# For Authentication (OAuth call)\n",
    "c_key = \"qiEDB0WIq3e3MM7LRZB*3Q((\"\n",
    "c_secret = \"L7Pv1pOb2VJxDvBy9qH38A((\" \n",
    "\n",
    "# Configuring the APIs\n",
    "## INTERNET SECURITY\n",
    "SITE_IS = StackAPI('security', key = c_key, client_secret = c_secret)\n",
    "\n",
    "## STATISTICS\n",
    "SITE_ST = StackAPI('stats', key = c_key, client_secret = c_secret)\n",
    "\n",
    "## PHYSICS\n",
    "SITE_PH = StackAPI('physics', key = c_key, client_secret = c_secret)\n",
    "\n",
    "# TOTAL QUESTION = page_sizes * max_pages = 50,000\n",
    "## INTERNET SECURITY\n",
    "SITE_IS.page_sizes = 100\n",
    "SITE_IS.max_pages = 500\n",
    "\n",
    "## STATISTICS\n",
    "SITE_ST.page_sizes = 100\n",
    "SITE_ST.max_pages = 500\n",
    "\n",
    "## PHYSICS\n",
    "SITE_PH.page_sizes = 100\n",
    "SITE_PH.max_pages = 500"
   ]
  },
  {
   "cell_type": "markdown",
   "metadata": {},
   "source": [
    "### 2.2 Calling the API"
   ]
  },
  {
   "cell_type": "code",
   "execution_count": 4,
   "metadata": {},
   "outputs": [],
   "source": [
    "data_IS = SITE_IS.fetch(\"questions\")\n",
    "data_ST = SITE_ST.fetch(\"questions\")\n",
    "data_PH = SITE_PH.fetch(\"questions\")"
   ]
  },
  {
   "cell_type": "code",
   "execution_count": 12,
   "metadata": {},
   "outputs": [],
   "source": [
    "create_dataframe(data_IS, \"IS\")\n",
    "create_dataframe(data_ST, \"STATS\")\n",
    "create_dataframe(data_PH, \"PHYSICS\")"
   ]
  },
  {
   "cell_type": "markdown",
   "metadata": {},
   "source": [
    "### 2.3 Converting data to appropriate manner"
   ]
  },
  {
   "cell_type": "code",
   "execution_count": 45,
   "metadata": {},
   "outputs": [],
   "source": [
    "df_IS = pd.read_csv(\"IS.csv\", index_col = 0)\n",
    "df_ST = pd.read_csv(\"STATS.csv\", index_col = 0)\n",
    "df_PH = pd.read_csv(\"PHYSICS.csv\", index_col = 0)"
   ]
  },
  {
   "cell_type": "code",
   "execution_count": 46,
   "metadata": {},
   "outputs": [],
   "source": [
    "df_list = [df_IS, df_PH, df_ST]\n",
    "df_final = pd.concat(df_list)"
   ]
  },
  {
   "cell_type": "code",
   "execution_count": 47,
   "metadata": {},
   "outputs": [],
   "source": [
    "df_final = shuffle(df_final)\n",
    "df_final.reset_index(drop = True, inplace = True)"
   ]
  },
  {
   "cell_type": "code",
   "execution_count": 48,
   "metadata": {},
   "outputs": [],
   "source": [
    "df_final.to_csv(\"final.csv\", header = True)"
   ]
  },
  {
   "cell_type": "code",
   "execution_count": 50,
   "metadata": {},
   "outputs": [],
   "source": [
    "string = \"\"\n",
    "with open(\"final_data.txt\", 'w', encoding = 'utf-8') as file:\n",
    "    for index, row in df_final.iterrows():\n",
    "        string += (row[\"Labels\"] + row[\"Question\"])\n",
    "        string += '\\n'\n",
    "    file.write(string)"
   ]
  }
 ],
 "metadata": {
  "kernelspec": {
   "display_name": "Python 3",
   "language": "python",
   "name": "python3"
  },
  "language_info": {
   "codemirror_mode": {
    "name": "ipython",
    "version": 3
   },
   "file_extension": ".py",
   "mimetype": "text/x-python",
   "name": "python",
   "nbconvert_exporter": "python",
   "pygments_lexer": "ipython3",
   "version": "3.7.1"
  }
 },
 "nbformat": 4,
 "nbformat_minor": 2
}
